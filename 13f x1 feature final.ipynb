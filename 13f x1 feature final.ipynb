{
 "cells": [
  {
   "cell_type": "code",
   "execution_count": 3,
   "metadata": {
    "scrolled": false
   },
   "outputs": [
    {
     "data": {
      "text/html": [
       "<div>\n",
       "<style scoped>\n",
       "    .dataframe tbody tr th:only-of-type {\n",
       "        vertical-align: middle;\n",
       "    }\n",
       "\n",
       "    .dataframe tbody tr th {\n",
       "        vertical-align: top;\n",
       "    }\n",
       "\n",
       "    .dataframe thead th {\n",
       "        text-align: right;\n",
       "    }\n",
       "</style>\n",
       "<table border=\"1\" class=\"dataframe\">\n",
       "  <thead>\n",
       "    <tr style=\"text-align: right;\">\n",
       "      <th></th>\n",
       "      <th>date</th>\n",
       "      <th>record_id</th>\n",
       "      <th>iCIK</th>\n",
       "      <th>stock_id</th>\n",
       "      <th>period_end</th>\n",
       "      <th>iAMEND</th>\n",
       "      <th>iRESTATEMENT</th>\n",
       "      <th>iTYPE</th>\n",
       "      <th>iQTY</th>\n",
       "      <th>iMARKET_VALUE</th>\n",
       "      <th>iLONG_FRACTION</th>\n",
       "    </tr>\n",
       "  </thead>\n",
       "  <tbody>\n",
       "    <tr>\n",
       "      <th>0</th>\n",
       "      <td>2013-01-02 00:00:00+00:00</td>\n",
       "      <td>37942554</td>\n",
       "      <td>732857</td>\n",
       "      <td>G0692U109</td>\n",
       "      <td>2012-12-31</td>\n",
       "      <td>0</td>\n",
       "      <td>0</td>\n",
       "      <td>0</td>\n",
       "      <td>63005.0</td>\n",
       "      <td>2162.0</td>\n",
       "      <td>0.012254</td>\n",
       "    </tr>\n",
       "    <tr>\n",
       "      <th>1</th>\n",
       "      <td>2013-01-02 00:00:00+00:00</td>\n",
       "      <td>37942555</td>\n",
       "      <td>732857</td>\n",
       "      <td>384313102</td>\n",
       "      <td>2012-12-31</td>\n",
       "      <td>0</td>\n",
       "      <td>0</td>\n",
       "      <td>0</td>\n",
       "      <td>17450.0</td>\n",
       "      <td>158.0</td>\n",
       "      <td>0.000895</td>\n",
       "    </tr>\n",
       "    <tr>\n",
       "      <th>2</th>\n",
       "      <td>2013-01-02 00:00:00+00:00</td>\n",
       "      <td>37942556</td>\n",
       "      <td>732857</td>\n",
       "      <td>032511107</td>\n",
       "      <td>2012-12-31</td>\n",
       "      <td>0</td>\n",
       "      <td>0</td>\n",
       "      <td>0</td>\n",
       "      <td>16709.0</td>\n",
       "      <td>1208.0</td>\n",
       "      <td>0.006847</td>\n",
       "    </tr>\n",
       "    <tr>\n",
       "      <th>3</th>\n",
       "      <td>2013-01-02 00:00:00+00:00</td>\n",
       "      <td>37942557</td>\n",
       "      <td>732857</td>\n",
       "      <td>37946S107</td>\n",
       "      <td>2012-12-31</td>\n",
       "      <td>0</td>\n",
       "      <td>0</td>\n",
       "      <td>0</td>\n",
       "      <td>47502.0</td>\n",
       "      <td>176.0</td>\n",
       "      <td>0.000998</td>\n",
       "    </tr>\n",
       "    <tr>\n",
       "      <th>4</th>\n",
       "      <td>2013-01-02 00:00:00+00:00</td>\n",
       "      <td>37942558</td>\n",
       "      <td>732857</td>\n",
       "      <td>31428X106</td>\n",
       "      <td>2012-12-31</td>\n",
       "      <td>0</td>\n",
       "      <td>0</td>\n",
       "      <td>0</td>\n",
       "      <td>14511.0</td>\n",
       "      <td>1312.0</td>\n",
       "      <td>0.007436</td>\n",
       "    </tr>\n",
       "  </tbody>\n",
       "</table>\n",
       "</div>"
      ],
      "text/plain": [
       "                        date  record_id    iCIK   stock_id  period_end  \\\n",
       "0  2013-01-02 00:00:00+00:00   37942554  732857  G0692U109  2012-12-31   \n",
       "1  2013-01-02 00:00:00+00:00   37942555  732857  384313102  2012-12-31   \n",
       "2  2013-01-02 00:00:00+00:00   37942556  732857  032511107  2012-12-31   \n",
       "3  2013-01-02 00:00:00+00:00   37942557  732857  37946S107  2012-12-31   \n",
       "4  2013-01-02 00:00:00+00:00   37942558  732857  31428X106  2012-12-31   \n",
       "\n",
       "   iAMEND  iRESTATEMENT  iTYPE     iQTY  iMARKET_VALUE  iLONG_FRACTION  \n",
       "0       0             0      0  63005.0         2162.0        0.012254  \n",
       "1       0             0      0  17450.0          158.0        0.000895  \n",
       "2       0             0      0  16709.0         1208.0        0.006847  \n",
       "3       0             0      0  47502.0          176.0        0.000998  \n",
       "4       0             0      0  14511.0         1312.0        0.007436  "
      ]
     },
     "metadata": {},
     "output_type": "display_data"
    }
   ],
   "source": [
    "import pandas as pd\n",
    "\n",
    "#import data\n",
    "df = pd.read_csv(\"13F_filtered.csv\")\n",
    "\n",
    "#preview first 5 lines of data\n",
    "display(df.head())"
   ]
  },
  {
   "cell_type": "code",
   "execution_count": 6,
   "metadata": {},
   "outputs": [
    {
     "name": "stdout",
     "output_type": "stream",
     "text": [
      "['G0692U109' '384313102' '032511107' ... '92347D100' '98741T104'\n",
      " '37954Y392']\n",
      "['2012-12-31' '2012-09-30' '2013-06-30' '2014-12-31' '2014-06-30'\n",
      " '2013-12-31' '2014-03-31' '2013-09-30' '2013-03-31' '2012-06-30'\n",
      " '2012-03-31' '2011-12-31' '2011-09-30' '2011-06-30' '2011-03-31'\n",
      " '2010-12-31' '2010-09-30' '2010-06-30' '2010-03-31' '2009-12-31'\n",
      " '2009-09-30' '2009-06-30' '2009-03-31' '2008-12-31' '2008-09-30'\n",
      " '2008-06-30' '2008-03-31' '2007-12-31' '2007-09-30' '2007-06-30'\n",
      " '2007-03-31' '2006-12-31' '2014-09-30' '2015-03-31' '2015-06-30'\n",
      " '2015-09-30' '2015-12-31' '2016-03-31' '2016-06-30' '2016-09-30'\n",
      " '2016-12-31' '2017-03-31' '2017-06-30' '2017-09-30' '2017-12-31'\n",
      " '2018-03-31' '2018-06-30' '2018-09-30' '2018-12-31' '2019-03-31'\n",
      " '2019-06-30' '2019-09-30' '2019-12-31' '2020-03-31']\n"
     ]
    }
   ],
   "source": [
    "#finds all unique stocks\n",
    "print (df.stock_id.unique())\n",
    "#find all unique dates\n",
    "print (df.period_end.unique())"
   ]
  },
  {
   "cell_type": "code",
   "execution_count": null,
   "metadata": {},
   "outputs": [],
   "source": [
    "#empty dictionary that stores dataframes by quarters\n",
    "dfs={}\n",
    "for date in df.period_end.unique():\n",
    "    #(df[df[\"period_end\"] == date])\n",
    "    #classifies by period_end and adds to dictionary\n",
    "    dfs[date] = df[df[\"period_end\"] == date]\n",
    "    print (dfs[date])\n",
    "    "
   ]
  },
  {
   "cell_type": "code",
   "execution_count": null,
   "metadata": {},
   "outputs": [],
   "source": [
    "print(dfs[\"2012-12-31\"])"
   ]
  },
  {
   "cell_type": "code",
   "execution_count": null,
   "metadata": {},
   "outputs": [],
   "source": [
    "def counter(currentdf):\n",
    "    #empty dictionary that will store number of times a stock appears\n",
    "    dfs2 = (currentdf.stock_id.value_counts())\n",
    "    return(dfs2)\n",
    "\n",
    "#counter(dfs[\"2012-12-31\"])\n",
    "\n",
    "print (\"period_end denotes end of the previous quarter\")\n",
    "\n",
    "for i in df.period_end.unique():\n",
    "    print (\"\\nFor period_end\", i, \":\")\n",
    "    print (counter(dfs[i]))\n",
    "        \n"
   ]
  },
  {
   "cell_type": "markdown",
   "metadata": {},
   "source": [
    "# PROCESS\n",
    "#sort data by period end date\n",
    "#within each quarter, count how many times the stock appears\n",
    "\n",
    "#x1 The number of funds that held the stock in the past quarter\n",
    "#iCIK is fund identifier\n",
    "#stock_id is the stock identifier\n",
    "#divide timeframe into quarters - split csv into \n",
    "#find each individual stock in the 13f file\n",
    "#everytime another row of that stock id is found, add one to the count of the variable\n",
    "\n",
    "\n",
    "#load data set into dataframe\n",
    "#load everything within requested dates into second dataframe\n",
    "#array object "
   ]
  },
  {
   "cell_type": "code",
   "execution_count": null,
   "metadata": {},
   "outputs": [],
   "source": []
  },
  {
   "cell_type": "code",
   "execution_count": null,
   "metadata": {},
   "outputs": [],
   "source": []
  }
 ],
 "metadata": {
  "kernelspec": {
   "display_name": "Python 3",
   "language": "python",
   "name": "python3"
  },
  "language_info": {
   "codemirror_mode": {
    "name": "ipython",
    "version": 3
   },
   "file_extension": ".py",
   "mimetype": "text/x-python",
   "name": "python",
   "nbconvert_exporter": "python",
   "pygments_lexer": "ipython3",
   "version": "3.8.5"
  }
 },
 "nbformat": 4,
 "nbformat_minor": 4
}
